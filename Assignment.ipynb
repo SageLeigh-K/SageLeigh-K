{
  "nbformat": 4,
  "nbformat_minor": 0,
  "metadata": {
    "colab": {
      "provenance": [],
      "include_colab_link": true
    },
    "kernelspec": {
      "name": "python3",
      "display_name": "Python 3"
    },
    "language_info": {
      "name": "python"
    }
  },
  "cells": [
    {
      "cell_type": "markdown",
      "metadata": {
        "id": "view-in-github",
        "colab_type": "text"
      },
      "source": [
        "<a href=\"https://colab.research.google.com/github/SageLeigh-K/SageLeigh-K/blob/main/Assignment.ipynb\" target=\"_parent\"><img src=\"https://colab.research.google.com/assets/colab-badge.svg\" alt=\"Open In Colab\"/></a>"
      ]
    },
    {
      "cell_type": "markdown",
      "source": [
        "1. Sign in to your own google account!!!\n",
        "2. To save a copy in drive: Go to File > Save a copy in Drive\n"
      ],
      "metadata": {
        "id": "PVpaPiekeeey"
      }
    },
    {
      "cell_type": "markdown",
      "source": [
        "#PLEASE SAVE A COPY IN DRIVE to customize and save your code as your own.\n",
        "#PLEASE SAVE A COPY IN DRIVE to customize and save your code as your own.\n",
        "#PLEASE SAVE A COPY IN DRIVE to customize and save your code as your own.\n",
        "\n",
        "Instructions:\n",
        "<br>\n",
        "1. Rename your Google Colab file with your last and first name\n",
        "<br>\n",
        "from: ccincoml_lastName_Firstname_python ---> ccincoml_Gunay_Aiken_python\n",
        "2. Share the Google Colab link with 'view' privilege by clicking share in Google Colab and copying the link to send in your Teams assignment module.\n",
        "<br>\n",
        "<br>\n",
        "You may start now!"
      ],
      "metadata": {
        "id": "fTdG2ZQO5VcC"
      }
    },
    {
      "cell_type": "markdown",
      "source": [
        "# YOUR NAME: LAST NAME, FIRST NAME\n",
        "\n",
        "Click save to indicate you saved a copy in your drive and the file has updated with your name on it.\n",
        "\n",
        "Failure to save a copy and change the name, will result in lost of progress.\n",
        "\n"
      ],
      "metadata": {
        "id": "9A2visYh2uba"
      }
    },
    {
      "cell_type": "markdown",
      "source": [
        "# Exercise 1: Variables in Python\n",
        "\n",
        "Create a program that stores your first name, last name, and your favorite number in variables. Print each value on a separate line.\n",
        "\n",
        "\n"
      ],
      "metadata": {
        "id": "VA3bnu0UefRo"
      }
    },
    {
      "cell_type": "markdown",
      "source": [
        "Expected Output:\n",
        "<br>\n",
        "<br>\n",
        "First Name: John\n",
        "<br>\n",
        "Last Name: Doe\n",
        "<br>\n",
        "Favorite Number: 7"
      ],
      "metadata": {
        "id": "4O-mUqXGg0Op"
      }
    },
    {
      "cell_type": "code",
      "source": [
        "write your code here..."
      ],
      "metadata": {
        "id": "6XcXCDqHeiBo"
      },
      "execution_count": null,
      "outputs": []
    },
    {
      "cell_type": "markdown",
      "source": [
        "# Exercise 2: String Manipulation\n",
        "\n",
        "Exercise: Write a program that asks the user for their name and then prints the following:\n",
        "\n",
        "1. The name in all uppercase letters.\n",
        "2. The name in all lowercase letters.\n",
        "3. The first three characters of their name."
      ],
      "metadata": {
        "id": "LrGrIEJKft3L"
      }
    },
    {
      "cell_type": "markdown",
      "source": [
        "Expected Output:\n",
        "<br>\n",
        "<br>\n",
        "Enter your name: Alice\n",
        "<br>\n",
        "ALICE\n",
        "<br>\n",
        "alice\n",
        "<br>\n",
        "Ali"
      ],
      "metadata": {
        "id": "JWYeRy9agfmx"
      }
    },
    {
      "cell_type": "code",
      "source": [
        "write your code here..."
      ],
      "metadata": {
        "id": "JQZClfNWiJwH"
      },
      "execution_count": null,
      "outputs": []
    },
    {
      "cell_type": "markdown",
      "source": [
        "# Exercise 3: Input and Print Functions\n",
        "Exercise: Write a program that asks the user for two numbers. Add the two numbers together and print the result."
      ],
      "metadata": {
        "id": "oBITE8BCiEJ8"
      }
    },
    {
      "cell_type": "markdown",
      "source": [
        "Expected Output:\n",
        "<br>\n",
        "<br>\n",
        "Enter the first number: 10\n",
        "<br>\n",
        "Enter the second number: 20\n",
        "<br>\n",
        "The sum of the two numbers is: 30\n"
      ],
      "metadata": {
        "id": "Nko_aPVMixJ3"
      }
    },
    {
      "cell_type": "code",
      "source": [
        "write your code here..."
      ],
      "metadata": {
        "id": "7g0vGZ_bgEvT"
      },
      "execution_count": null,
      "outputs": []
    },
    {
      "cell_type": "markdown",
      "source": [
        "# Exercise 4: Variable Naming Rules\n",
        "Exercise: Create a program that asks the user for the current year and the year they were born. Store these values in appropriately named variables and calculate the user's age. Print their age."
      ],
      "metadata": {
        "id": "3krDPm1pjSAI"
      }
    },
    {
      "cell_type": "markdown",
      "source": [
        "Expected Output:\n",
        "<br>\n",
        "<br>\n",
        "Enter the current year: 2024\n",
        "<br>\n",
        "Enter your birth year: 2000\n",
        "<br>\n",
        "You are 24 years old."
      ],
      "metadata": {
        "id": "N_yoejk1jqIN"
      }
    },
    {
      "cell_type": "code",
      "source": [
        "write your code here..."
      ],
      "metadata": {
        "id": "06KPuczZcTGB"
      },
      "execution_count": null,
      "outputs": []
    },
    {
      "cell_type": "markdown",
      "source": [
        "# Exercise 5: Data Types\n",
        "Exercise: Create a program that defines three variables: an integer, a float, and a string. Use the type() function to print the type of each variable."
      ],
      "metadata": {
        "id": "9CG3TDlKrIV4"
      }
    },
    {
      "cell_type": "markdown",
      "source": [
        "Expected output:\n",
        "<br>\n",
        "<br>\n",
        "Integer value: 10\n",
        "<br>\n",
        "Type of integer: <class 'int'>\n",
        "<br>\n",
        "Float value: 5.75\n",
        "<br>\n",
        "Type of float: <class 'float'>\n",
        "<br>\n",
        "String value: Hello\n",
        "<br>\n",
        "Type of string: <class 'str'>\n"
      ],
      "metadata": {
        "id": "Tv6Lwx78rZpl"
      }
    },
    {
      "cell_type": "code",
      "source": [
        "write your code here..."
      ],
      "metadata": {
        "id": "C7CdJMfFrT3A"
      },
      "execution_count": null,
      "outputs": []
    },
    {
      "cell_type": "markdown",
      "source": [
        "# Exercise 6: Numbers and Operations\n",
        "\n",
        "Exercise: Write a program that defines two numbers (num1 = 15 and num2 = 3). Perform and print the result of the following operations:\n",
        "\n",
        "- Addition\n",
        "- Subtraction\n",
        "- Multiplication\n",
        "- Division\n",
        "- Exponentiation"
      ],
      "metadata": {
        "id": "E1r9rKnEsDbk"
      }
    },
    {
      "cell_type": "markdown",
      "source": [
        "Expected Output:\n",
        "<br>\n",
        "<br>\n",
        "Addition: 18\n",
        "<br>\n",
        "Subtraction: 12\n",
        "<br>\n",
        "Multiplication: 45\n",
        "<br>\n",
        "Division: 5.0\n",
        "<br>\n",
        "Exponentiation: 3375"
      ],
      "metadata": {
        "id": "STtFd1KhsNwD"
      }
    },
    {
      "cell_type": "code",
      "source": [
        "write your code here..."
      ],
      "metadata": {
        "id": "w4_VSa6wsZib"
      },
      "execution_count": null,
      "outputs": []
    },
    {
      "cell_type": "markdown",
      "source": [
        "# Exercise 7: Type Conversion\n",
        "Exercise: Write a program that asks the user to input two numbers as strings. Convert these strings into integers, add them together, and print the result."
      ],
      "metadata": {
        "id": "RVy_PzRc7Jc6"
      }
    },
    {
      "cell_type": "markdown",
      "source": [
        "Expected Output:\n",
        "<br>\n",
        "<br>\n",
        "Enter the first number: 5\n",
        "<br>\n",
        "Enter the second number: 7\n",
        "<br>\n",
        "The sum of the two numbers is: 12\n"
      ],
      "metadata": {
        "id": "It4jKkZU7Paf"
      }
    },
    {
      "cell_type": "code",
      "source": [
        "write your code here..."
      ],
      "metadata": {
        "id": "ZEgYZa2O8Lwf"
      },
      "execution_count": null,
      "outputs": []
    },
    {
      "cell_type": "markdown",
      "source": [
        "#  Exercise 8: f-Strings\n",
        "Exercise: Write a program that asks the user for their name and favorite food. Use an f-string to print a message that says: \"Hello [name], I heard you like [food]!\"\n",
        "\n"
      ],
      "metadata": {
        "id": "GhoowUE47XJ_"
      }
    },
    {
      "cell_type": "markdown",
      "source": [
        "Expected Output:\n",
        "<br>\n",
        "<br>\n",
        "Enter your name: Sam\n",
        "<br>\n",
        "Enter your favorite food: Pizza\n",
        "<br>\n",
        "Hello Sam, I heard you like Pizza!\n"
      ],
      "metadata": {
        "id": "WIvsWg_y7hsr"
      }
    },
    {
      "cell_type": "code",
      "source": [
        "write your code here..."
      ],
      "metadata": {
        "id": "_TaHG6tG8F5u"
      },
      "execution_count": null,
      "outputs": []
    },
    {
      "cell_type": "markdown",
      "source": [
        "# Exercise 9: Conditional Statements\n",
        "Exercise: Write a program that asks the user to enter their age. Based on their age, print one of the following messages:\n",
        "\n",
        "If they are 18 or older, print \"You are eligible to vote.\"\n",
        "If they are exactly 17, print \"You are almost eligible to vote.\"\n",
        "If they are younger than 17, print \"You are not eligible to vote.\""
      ],
      "metadata": {
        "id": "nQE_DB-j_RiG"
      }
    },
    {
      "cell_type": "markdown",
      "source": [
        "Expected Output:\n",
        "<br>\n",
        "<br>\n",
        "Enter your age: 16\n",
        "<br>\n",
        "You are not eligible to vote.\n"
      ],
      "metadata": {
        "id": "TCPb5-Nx_qah"
      }
    },
    {
      "cell_type": "code",
      "source": [
        "write your code here..."
      ],
      "metadata": {
        "id": "SVDZ-1wI_-Eh"
      },
      "execution_count": null,
      "outputs": []
    },
    {
      "cell_type": "markdown",
      "source": [
        "# Exercise 10: Logical Operators\n",
        "Exercise: Write a program that asks the user if they are a student and if they have a membership card. If both are true, print \"You get a 20% discount.\" If only one is true, print \"You get a 10% discount.\" Otherwise, print \"No discount available.\""
      ],
      "metadata": {
        "id": "wFztLPo5ACya"
      }
    },
    {
      "cell_type": "markdown",
      "source": [
        "Expected Output:\n",
        "<br>\n",
        "<br>\n",
        "Are you a student (yes/no)? yes\n",
        "<br>\n",
        "Do you have a membership card (yes/no)? no\n",
        "<br>\n",
        "You get a 10% discount.\n"
      ],
      "metadata": {
        "id": "LAqDtBiiAX5z"
      }
    },
    {
      "cell_type": "code",
      "source": [
        "write your code here..."
      ],
      "metadata": {
        "id": "sVEj6GvoAdhm"
      },
      "execution_count": null,
      "outputs": []
    },
    {
      "cell_type": "markdown",
      "source": [
        "# Exercise 11: Code Blocks\n",
        "\n",
        "Exercise: Write a program that asks the user for a number. If the number is greater than 10, print \"This is a large number.\" Inside the same block, also print \"Nice choice!\" If the number is not greater than 10, print \"This is a small number.\""
      ],
      "metadata": {
        "id": "NW-7M6AcASlz"
      }
    },
    {
      "cell_type": "markdown",
      "source": [
        "Expected Output:\n",
        "<br>\n",
        "<br>\n",
        "Enter a number: 12\n",
        "<br>\n",
        "This is a large number.\n",
        "<br>\n",
        "Nice choice!\n"
      ],
      "metadata": {
        "id": "x8-Kj1LRAs8i"
      }
    },
    {
      "cell_type": "code",
      "source": [
        "write your code here..."
      ],
      "metadata": {
        "id": "NNy3x8QkAkpX"
      },
      "execution_count": null,
      "outputs": []
    },
    {
      "cell_type": "markdown",
      "source": [
        "# Exercise 12: Scope\n",
        "Exercise: Write a program that defines a global variable x and a function modify_x(). Inside the function, define a local variable y and try to modify x. Print both x and y inside the function. After calling the function, print x again outside the function to see if it was changed."
      ],
      "metadata": {
        "id": "V5m508imBImt"
      }
    },
    {
      "cell_type": "markdown",
      "source": [
        "Expected Output:\n",
        "<br>\n",
        "<br>\n",
        "Inside the function: x = 10, y = 5\n",
        "<br>\n",
        "Outside the function: x = 10\n"
      ],
      "metadata": {
        "id": "ixFQECuMBNuy"
      }
    },
    {
      "cell_type": "code",
      "source": [
        "write your code here..."
      ],
      "metadata": {
        "id": "InC0o8FbBXw9"
      },
      "execution_count": null,
      "outputs": []
    }
  ]
}